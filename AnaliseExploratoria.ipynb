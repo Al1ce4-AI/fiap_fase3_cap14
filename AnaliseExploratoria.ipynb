{
 "cells": [
  {
   "cell_type": "markdown",
   "id": "22dabe26",
   "metadata": {},
   "source": [
    "📚 Importação de Bibliotecas Essenciais\n",
    "\n",
    "Este trecho de código importa as principais bibliotecas utilizadas para manipulação, análise e visualização de dados, tanto em gráficos estáticos (matplotlib, seaborn) quanto interativos (plotly), além de ferramentas para cálculo numérico (numpy) e manipulação de tabelas (pandas)."
   ]
  },
  {
   "cell_type": "code",
   "execution_count": null,
   "id": "a565da66",
   "metadata": {},
   "outputs": [],
   "source": [
    "import pandas as pd\n",
    "import matplotlib.pyplot as plt\n",
    "import seaborn as sns\n",
    "import numpy as np\n",
    "import plotly.express as px\n",
    "import plotly.graph_objects as go"
   ]
  },
  {
   "cell_type": "markdown",
   "id": "0aca10f1",
   "metadata": {},
   "source": [
    "📂 Definição do caminho de acesso aos dados da lavoura\n",
    "\n",
    "Aqui, o caminho do arquivo .csv contendo os dados agrícolas é definido em uma variável. Essa prática torna o código mais organizado e permite reutilizar facilmente o caminho do arquivo ao longo do notebook, facilitando ajustes e reaproveitamento do script."
   ]
  },
  {
   "cell_type": "code",
   "execution_count": null,
   "id": "729ec100",
   "metadata": {},
   "outputs": [],
   "source": [
    "#📂 Definição do caminho de acesso aos dados da lavoura\n",
    "\n",
    "csv_path = \"Atividade_Cap_14_produtos_agricolas.csv\""
   ]
  },
  {
   "cell_type": "markdown",
   "id": "31ab42bc",
   "metadata": {},
   "source": [
    "📥 Carregamento do dataset para estrutura tabular do pandas\n",
    "\n",
    "Esta etapa carrega os dados do arquivo CSV para um DataFrame, a estrutura de dados mais comum do pandas. Isso permite o uso de diversas ferramentas para exploração, limpeza e análise estatística dos dados referentes a culturas agrícolas como milho e cana-de-açúcar."
   ]
  },
  {
   "cell_type": "code",
   "execution_count": null,
   "id": "f7fc76a9",
   "metadata": {},
   "outputs": [],
   "source": [
    "#📥 Carregamento do dataset para estrutura tabular do pandas\n",
    "\n",
    "df = pd.read_csv(csv_path)\n",
    "df2 = df.copy()"
   ]
  },
  {
   "cell_type": "markdown",
   "id": "9d9ea3e5",
   "metadata": {},
   "source": [
    "📐 Verificação da dimensão do conjunto de dados (linhas × colunas)\n",
    "\n",
    "Com df.shape, obtemos a dimensão do DataFrame, ou seja, o número de amostras e de atributos. Isso ajuda a dimensionar a complexidade da base, identificar se há dados suficientes e planejar estratégias de modelagem com base no volume de dados."
   ]
  },
  {
   "cell_type": "code",
   "execution_count": null,
   "id": "2afc4330",
   "metadata": {},
   "outputs": [],
   "source": [
    "#📐 Verificação da dimensão do conjunto de dados (linhas × colunas)\n",
    "\n",
    "df.shape # 2200 linhas, e 8 colunas"
   ]
  },
  {
   "cell_type": "markdown",
   "id": "92f5024d",
   "metadata": {},
   "source": [
    "🧾 Extração dos nomes das colunas para facilitar manipulação e seleção\n",
    "\n",
    "Listar df.columns permite confirmar os nomes das variáveis, especialmente útil para selecionar subconjuntos de dados, configurar o eixo de gráficos ou usar nomes programaticamente em modelagens e pipelines."
   ]
  },
  {
   "cell_type": "code",
   "execution_count": null,
   "id": "4289df2b",
   "metadata": {},
   "outputs": [],
   "source": [
    "#🧾 Extração dos nomes das colunas para facilitar manipulação e seleção\n",
    "\n",
    "df.columns "
   ]
  },
  {
   "cell_type": "markdown",
   "id": "698a5f26",
   "metadata": {},
   "source": [
    "🧬 Checagem dos tipos de dados de cada variável\n",
    "\n",
    "Usando df.dtypes, identificamos se os dados estão corretamente interpretados pelo pandas. Por exemplo, colunas numéricas devem estar como float ou int, enquanto variáveis categóricas podem estar como object ou category. Essa etapa é fundamental para detectar conversões necessárias para análise estatística ou aprendizado de máquina."
   ]
  },
  {
   "cell_type": "code",
   "execution_count": null,
   "id": "e092b12e",
   "metadata": {},
   "outputs": [],
   "source": [
    "#🧬 Checagem dos tipos de dados de cada variável\n",
    "\n",
    "df.dtypes # → Retorna os tipos de dados:\n",
    "            #int64 para nutrientes (N, P, K)\n",
    "            #float64 para variáveis contínuas (temperature, humidity, ph, rainfall)\n",
    "            #object para a label, pois é uma variável categórica (string)"
   ]
  },
  {
   "cell_type": "markdown",
   "id": "bbbf0134",
   "metadata": {},
   "source": [
    "🚨 Detecção de dados faltantes para avaliar necessidade de imputação\n",
    "\n",
    "Esta célula analisa a presença de valores nulos usando df.isnull().sum(). A presença de dados ausentes pode comprometer a análise e os modelos, sendo necessário aplicar técnicas como imputação, remoção de linhas/colunas ou modelagem com tolerância a nulos."
   ]
  },
  {
   "cell_type": "code",
   "execution_count": null,
   "id": "be6a455e",
   "metadata": {},
   "outputs": [],
   "source": [
    "df.isnull().sum() # nao existe nem um nulo"
   ]
  },
  {
   "cell_type": "markdown",
   "id": "6717b5fa",
   "metadata": {},
   "source": [
    "📊 Estatísticas descritivas para análise quantitativa preliminar\n",
    "\n",
    "Com df.describe(), obtemos medidas estatísticas como média, mediana, desvio padrão e quartis para variáveis numéricas. Isso fornece uma noção do comportamento e da dispersão dos dados, ajudando a identificar outliers e padrões."
   ]
  },
  {
   "cell_type": "code",
   "execution_count": null,
   "id": "f8194cfb",
   "metadata": {},
   "outputs": [],
   "source": [
    "#📊 Estatísticas descritivas para análise quantitativa preliminar\n",
    "\n",
    "df.describe()"
   ]
  },
  {
   "cell_type": "markdown",
   "id": "295ee077",
   "metadata": {},
   "source": [
    "🌾 Distribuição das culturas agrícolas (variável target)\n",
    "\n",
    "Com value_counts(), observamos a distribuição da variável label, que representa o tipo de cultivo. Esse passo permite entender o equilíbrio entre as classes e verificar se há desbalanceamento. Um desbalanceamento severo poderia impactar negativamente o desempenho dos modelos preditivos. Nesta base, as culturas estão relativamente equilibradas, favorecendo o uso de validação cruzada sem necessidade de técnicas de reamostragem."
   ]
  },
  {
   "cell_type": "code",
   "execution_count": null,
   "id": "247111bb",
   "metadata": {
    "lines_to_next_cell": 0
   },
   "outputs": [],
   "source": [
    "#🌾 Distribuição das culturas agrícolas (variável target)\n",
    "\n",
    "df['label'].value_counts()"
   ]
  },
  {
   "cell_type": "markdown",
   "id": "42964688",
   "metadata": {},
   "source": [
    "📄 Exibição do dataset arredondado\n",
    "\n",
    "Por fim, a base é exibida com valores arredondados para facilitar a leitura e a apresentação. Essa prática é útil para inspeção visual, identificação de padrões e construção de relatórios. Embora não afete o desempenho computacional dos modelos (que devem usar os dados originais), o arredondamento é uma boa prática para dashboards e validação visual de entradas."
   ]
  },
  {
   "cell_type": "code",
   "execution_count": null,
   "id": "4c42f3b8",
   "metadata": {
    "lines_to_next_cell": 0
   },
   "outputs": [],
   "source": [
    "#📄 Exibição do dataset arredondado\n",
    "\n",
    "df2_format = df2.round(2)\n",
    "display(df2_format)"
   ]
  },
  {
   "cell_type": "markdown",
   "id": "2bb18176",
   "metadata": {},
   "source": [
    "📊 Boxplot interativo das variáveis por tipo de cultivo\n",
    "\n",
    "Foi criado um boxplot interativo com Plotly para visualizar a distribuição das variáveis numéricas em cada cultura agrícola. Através da função melt(), a base foi transformada para o formato longo, permitindo o agrupamento por cultivo (label) e por variável. Esse gráfico revela diferenças significativas nas medianas e amplitudes interquartis, além da presença de potenciais outliers. Por exemplo, culturas como mamão (papaya) e arroz (rice) apresentam distribuições distintas de precipitação (rainfall), enquanto as culturas maçã (apple) e uva (grape) possuem índices de potássio (K) consideravelmente maiores do que as demais. Essas diferenças podem ser úteis para a criação de modelos de classificação baseados em características específicas do solo e do ambiente."
   ]
  },
  {
   "cell_type": "code",
   "execution_count": null,
   "id": "9da2a5c9",
   "metadata": {},
   "outputs": [],
   "source": [
    "#📊 Boxplot interativo das variáveis por tipo de cultivo\n",
    "\n",
    "df_long = df.melt(id_vars='label', \n",
    "                  value_vars=['N', 'P', 'K', 'temperature', 'humidity', 'ph', 'rainfall'],\n",
    "                  var_name='variavel', \n",
    "                  value_name='valor')\n",
    "\n",
    "\n",
    "fig = px.box(df_long, x='label', y='valor', color='variavel', points='all', title='Boxplot Interativo das Variáveis por tipo de Cultivo')\n",
    "fig.update_layout(\n",
    "    xaxis_title=\"Tipo de Cultivo\",\n",
    "    yaxis_title=\"Valor\",\n",
    "    boxmode='group',  \n",
    "    xaxis_tickangle=-45,\n",
    "    legend_title=\"Variável\",\n",
    "    height=600,\n",
    "    width=1200\n",
    ")"
   ]
  },
  {
   "cell_type": "markdown",
   "id": "b569cf61",
   "metadata": {},
   "source": [
    "🔬 Dispersão entre pH e precipitação\n",
    "\n",
    "O gráfico de dispersão entre pH e precipitação (rainfall) permite avaliar a existência de correlações visuais ou agrupamentos naturais entre essas variáveis. Embora não seja possível inferir relações causais, pode-se identificar tendências ou padrões específicos. O gráfico sugere alguma dispersão menor em faixas médias de pH, mas sem uma correlação linear clara. Esta análise reforça a importância de múltiplas variáveis em conjunto para prever o tipo de cultura."
   ]
  },
  {
   "cell_type": "code",
   "execution_count": null,
   "id": "cb0e0d45",
   "metadata": {},
   "outputs": [],
   "source": [
    "#🔬 Dispersão entre pH e precipitação\n",
    "\n",
    "plt.Figure(figsize=(18,10))\n",
    "sns.scatterplot(data=df2, x='ph', y='rainfall')\n",
    "\n",
    "plt.show()"
   ]
  },
  {
   "cell_type": "markdown",
   "id": "2ba3a291",
   "metadata": {},
   "source": [
    "🧪 Média de nutrientes por cultura (gráfico de barras agrupadas)\n",
    "\n",
    "Utiliza-se o método groupby para calcular as médias de potássio (K), nitrogênio (N) e fósforo (P) por tipo de cultivo, plotando um gráfico de barras agrupadas com Seaborn. Nota-se que diferentes culturas demandam diferentes composições químicas do solo: por exemplo, maçãs (apples) e uvas (grapes) tendem a exigir maior quantidade de K e P em relação ao coco (coconut) e laranjas (oranges). Essas informações são valiosas para práticas agrícolas direcionadas, bem como para alimentar modelos supervisionados com lógica explicável."
   ]
  },
  {
   "cell_type": "code",
   "execution_count": null,
   "id": "92bb29e2",
   "metadata": {},
   "outputs": [],
   "source": [
    "#🧪 Média de nutrientes por cultura (gráfico de barras agrupadas)\n",
    "\n",
    "df_media = df.groupby('label')[['K', 'N', 'P']].mean().reset_index()\n",
    "\n",
    "# Transformar para formato longo\n",
    "df_meltado = df_media.melt(id_vars='label', value_vars=['K', 'N', 'P'],\n",
    "                           var_name='Nutriente', value_name='Valor')\n",
    "\n",
    "# Gráfico de barras agrupadas\n",
    "plt.figure(figsize=(16, 6))\n",
    "sns.barplot(data=df_meltado, x='label', y='Valor', hue='Nutriente', palette='Set2')\n",
    "\n",
    "plt.title('Média de K, N e P por Cultivo')\n",
    "plt.xlabel('Cultivo')\n",
    "plt.ylabel('Valor Médio')\n",
    "plt.legend(title='Nutriente')\n",
    "plt.xticks(rotation=45)\n",
    "plt.tight_layout()\n",
    "plt.show()"
   ]
  },
  {
   "cell_type": "markdown",
   "id": "10ae5f40",
   "metadata": {},
   "source": [
    "🔥 Matriz de correlação entre variáveis numéricas\n",
    "\n",
    "Através do heatmap com annot=True, visualiza-se a correlação entre variáveis contínuas. Isso ajuda a identificar multicolinearidade, que pode prejudicar certos algoritmos (como Regressão Linear). A matriz de correlação representada pelo heatmap abaixo revela como as variáveis numéricas do solo e ambientais se relacionam entre si. O mapa utiliza a escala de cores para indicar o grau de correlação: tons avermelhados para correlações positivas e azulados para negativas.\n",
    "\n",
    "Dentre os destaques:\n",
    "\n",
    "- Forte correlação positiva entre P (fósforo) e K (potássio): valor de 0,74, indicando que essas variáveis tendem a aumentar juntas. Isso pode sinalizar um padrão comum de aplicação ou presença no solo.\n",
    "- Correlação negativa entre N (nitrogênio) e P (-0,23): sugere que em solos com mais nitrogênio, pode haver menos fósforo, ou vice-versa.\n",
    "- A maioria das variáveis climáticas como temperatura, umidade e rainfall (chuva) mostram baixa correlação com os nutrientes, sugerindo que atuam de forma mais independente nos dados, as correlações mais próximas de zero (como entre pH e outras variáveis) indicam pouca ou nenhuma associação linear, o que pode ser útil para enriquecer modelos preditivos sem risco de multicolinearidade.\n",
    "\n",
    "Essa análise é essencial para entender quais variáveis carregam informações semelhantes e quais trazem diversidade ao conjunto de dados."
   ]
  },
  {
   "cell_type": "code",
   "execution_count": null,
   "id": "949bf009",
   "metadata": {},
   "outputs": [],
   "source": [
    "#🔥 Matriz de correlação entre variáveis numéricas\n",
    "\n",
    "df2_num = df2.drop('label', axis=1)\n",
    "\n",
    "sns.heatmap(df2_num.corr(), annot=True, cmap='coolwarm')\n",
    "plt.xticks(rotation=45)\n",
    "plt.show()"
   ]
  },
  {
   "cell_type": "markdown",
   "id": "a0bc7c6a",
   "metadata": {},
   "source": [
    "🔎 Pairplot com coloração por tipo de cultivo\n",
    "\n",
    "O pairplot permite examinar relações bivariadas entre variáveis numéricas, com coloração baseada na variável label. Essa técnica é útil para detectar separabilidade visual entre classes. Observa-se que algumas combinações como K vs P ou K vs N exibem distribuições distintas por cultura, o que é promissor para tarefas de classificação. No entanto, outras variáveis mostram sobreposição, indicando que técnicas como PCA ou modelos não-lineares podem ser benéficos."
   ]
  },
  {
   "cell_type": "code",
   "execution_count": null,
   "id": "ff8fb82e",
   "metadata": {
    "lines_to_next_cell": 1
   },
   "outputs": [],
   "source": [
    "#🔎 Pairplot com coloração por tipo de cultivo\n",
    "\n",
    "sns.pairplot(df, hue='label', vars=['N', 'P', 'K', 'temperature', 'humidity', 'rainfall'])\n",
    "plt.title('Pairplot de Nutrientes do Solo e Fatores Ambientais por Tipo de Cultivo')\n",
    "plt.show()"
   ]
  },
  {
   "cell_type": "markdown",
   "id": "1b05ab0a",
   "metadata": {},
   "source": [
    "🌱 Análise do Perfil Ideal de Solo/Clima por Cultura (Sem Outliers)\n",
    "\n",
    "Este script realiza a limpeza de dados e a visualização comparativa do perfil ideal de solo e clima de diferentes culturas agrícolas com base em variáveis do solo e do clima, utilizando um gráfico de radar para facilitar a interpretação."
   ]
  },
  {
   "cell_type": "code",
   "execution_count": null,
   "id": "78207f87",
   "metadata": {
    "lines_to_next_cell": 1
   },
   "outputs": [],
   "source": [
    "#🌱 Análise do Perfil Ideal de Solo/Clima por Cultura (Sem Outliers)\n",
    "\n",
    "# Remoção de outliers usando o método do IQR\n",
    "def remover_outliers_iqr(df, colunas):\n",
    "    df_limpo = df.copy()\n",
    "    for col in colunas:\n",
    "        Q1 = df_limpo[col].quantile(0.25)\n",
    "        Q3 = df_limpo[col].quantile(0.75)\n",
    "        IQR = Q3 - Q1\n",
    "        limite_inferior = Q1 - 1.5 * IQR\n",
    "        limite_superior = Q3 + 1.5 * IQR\n",
    "        df_limpo = df_limpo[(df_limpo[col] >= limite_inferior) & (df_limpo[col] <= limite_superior)]\n",
    "    return df_limpo\n",
    "\n",
    "# Variáveis numéricas\n",
    "variaveis_numericas = ['N', 'P', 'K', 'temperature', 'humidity', 'ph', 'rainfall']\n",
    "\n",
    "# Aplicar remoção de outliers\n",
    "df_sem_outliers = remover_outliers_iqr(df, variaveis_numericas)\n",
    "\n",
    "# Calcular perfil ideal sem outliers\n",
    "perfil_ideal_sem_outliers = df_sem_outliers.groupby(\"label\")[variaveis_numericas].mean().round(2)\n",
    "\n",
    "# Exibir\n",
    "print(\"📋 Perfil ideal de solo/clima por cultura (sem outliers):\")\n",
    "print(perfil_ideal_sem_outliers)\n",
    "\n",
    "# Gráfico de radar para o perfil ideal de solo/clima por cultura (sem outliers)\n",
    "\n",
    "def plot_radar_todas_culturas_sem_marcadores(df):\n",
    "    categorias = list(df.columns)\n",
    "    num_vars = len(categorias)\n",
    "    angulos = np.linspace(0, 2 * np.pi, num_vars, endpoint=False).tolist()\n",
    "    angulos += angulos[:1]\n",
    "\n",
    "    plt.figure(figsize=(12, 9))\n",
    "    ax = plt.subplot(111, polar=True)\n",
    "    plt.xticks(angulos[:-1], categorias, size=12)\n",
    "\n",
    "    cores = [\n",
    "        '#e41a1c', '#377eb8', '#4daf4a', '#984ea3', '#ff7f00',\n",
    "        '#ffff33', '#a65628', '#f781bf', '#999999', '#66c2a5',\n",
    "        '#fc8d62', '#8da0cb', '#e78ac3', '#a6d854', '#ffd92f',\n",
    "        '#e5c494', '#b3b3b3', '#1b9e77', '#d95f02', '#7570b3'\n",
    "    ]\n",
    "\n",
    "    estilos_linha = ['solid', 'dashed', 'dotted', 'dashdot']\n",
    "\n",
    "    for i, cultura in enumerate(df.index):\n",
    "        valores = df.loc[cultura].values.flatten().tolist()\n",
    "        valores += valores[:1]\n",
    "\n",
    "        cor = cores[i % len(cores)]\n",
    "        estilo = estilos_linha[i % len(estilos_linha)]\n",
    "\n",
    "        ax.plot(\n",
    "            angulos, valores, linewidth=2.5, linestyle=estilo, label=cultura,\n",
    "            color=cor, alpha=0.95\n",
    "        )\n",
    "        # Sem scatter (sem marcadores)\n",
    "\n",
    "    plt.title('🌾 Perfil ideal de solo/clima por cultura', size=14, fontname='Segoe UI Emoji')\n",
    "    plt.legend(loc='upper right', bbox_to_anchor=(1.35, 1.1), fontsize=12)\n",
    "    plt.tight_layout()\n",
    "    plt.show()\n",
    "\n",
    "plot_radar_todas_culturas_sem_marcadores(perfil_ideal_sem_outliers)"
   ]
  },
  {
   "cell_type": "markdown",
   "id": "f5c7cc89",
   "metadata": {},
   "source": [
    "🧪 Análise do Perfil Ideal de Culturas Agrícolas (com Radar Plot)\n",
    "\n",
    "Este script realiza uma análise exploratória de dados agrícolas com o objetivo de identificar o perfil ideal de solo e clima para culturas comuns, baseado em registros reais e sem distorções causadas por outliers ou culturas com poucos dados.\n",
    "\n",
    "✅ Resultado\n",
    "O gráfico radar representa visualmente o perfil médio ideal para cultivo de culturas agrícolas, sem a influência de outliers ou amostras raras, pode ser usado como base para comparar culturas específicas e identificar onde estão alinhadas ou distantes do ideal."
   ]
  },
  {
   "cell_type": "code",
   "execution_count": null,
   "id": "db50e690",
   "metadata": {},
   "outputs": [],
   "source": [
    "#🧪 Análise do Perfil Ideal de Culturas Agrícolas (com Radar Plot)\n",
    "\n",
    "# Remoção de outliers usando o método do IQR\n",
    "def remover_outliers_iqr(df, colunas):\n",
    "    df_limpo = df.copy()\n",
    "    for col in colunas:\n",
    "        Q1 = df_limpo[col].quantile(0.25)\n",
    "        Q3 = df_limpo[col].quantile(0.75)\n",
    "        IQR = Q3 - Q1\n",
    "        limite_inferior = Q1 - 1.5 * IQR\n",
    "        limite_superior = Q3 + 1.5 * IQR\n",
    "        df_limpo = df_limpo[(df_limpo[col] >= limite_inferior) & (df_limpo[col] <= limite_superior)]\n",
    "    return df_limpo\n",
    "\n",
    "# Variáveis numéricas\n",
    "variaveis_numericas = ['N', 'P', 'K', 'temperature', 'humidity', 'ph', 'rainfall']\n",
    "\n",
    "# Aplicar remoção de outliers\n",
    "df_sem_outliers = remover_outliers_iqr(df, variaveis_numericas)\n",
    "\n",
    "# Calcular média geral das variáveis numéricas, agrupado por cultura\n",
    "perfil_medio = df_sem_outliers.groupby(\"label\")[variaveis_numericas].mean().round(2)\n",
    "\n",
    "# Remover culturas consideradas outliers — vamos definir \"culturas outlier\" como aquelas com poucos registros (por exemplo, menos que 30 amostras)\n",
    "contagem_culturas = df_sem_outliers['label'].value_counts()\n",
    "culturas_validas = contagem_culturas[contagem_culturas >= 30].index.tolist()\n",
    "perfil_filtrado = perfil_medio.loc[culturas_validas]\n",
    "\n",
    "# Calcular o perfil médio geral para essas culturas filtradas\n",
    "perfil_ideal = perfil_filtrado.mean().round(2)\n",
    "\n",
    "# Preparar dados para gráfico radar\n",
    "variaveis = perfil_ideal.index.tolist()\n",
    "valores = perfil_ideal.values.tolist()\n",
    "\n",
    "# Fechar ciclo do radar (repete o primeiro ponto)\n",
    "variaveis += [variaveis[0]]\n",
    "valores += [valores[0]]\n",
    "\n",
    "\n",
    "# Criar gráfico radar com Plotly e Exibir\n",
    "\n",
    "# Exibir perfil ideal\n",
    "print(\"🌱 Perfil ideal de solo/clima (média das culturas não-outliers):\")\n",
    "display(perfil_ideal.to_frame(name='valor'))\n",
    "\n",
    "\n",
    "# Gráfico radar interativo\n",
    "fig = go.Figure()\n",
    "\n",
    "fig.add_trace(go.Scatterpolar(\n",
    "    r=valores,\n",
    "    theta=variaveis,\n",
    "    fill='toself',\n",
    "    name='Perfil Ideal Médio',\n",
    "    marker=dict(color='mediumseagreen'),\n",
    "    hoverinfo='text',\n",
    "    text=[f'{v:.2f}' for v in valores]\n",
    "))\n",
    "\n",
    "fig.update_layout(\n",
    "    polar=dict(\n",
    "        radialaxis=dict(\n",
    "            visible=True,\n",
    "            range=[0, max(valores)*1.2]  # ajustar o range para melhor visualização\n",
    "        )\n",
    "    ),\n",
    "    title=\"Perfil Ideal de Solo/Clima para Culturas Agrícolas (sem Outliers e Culturas Raras)\",\n",
    "    showlegend=True,\n",
    "    height=600,\n",
    "    width=600\n",
    ")\n",
    "\n",
    "fig.show()"
   ]
  },
  {
   "cell_type": "markdown",
   "id": "736e9e86",
   "metadata": {},
   "source": [
    "🌱 Culturas Não-Outliers\n",
    "\n",
    "Este trecho de código exibe as culturas agrícolas consideradas não-outliers após a remoção dos valores extremos do conjunto de dados."
   ]
  },
  {
   "cell_type": "code",
   "execution_count": null,
   "id": "5eeb8bdb",
   "metadata": {},
   "outputs": [],
   "source": [
    "#🌱 Culturas Não-Outliers\n",
    "\n",
    "# Culturas não-outliers\n",
    "print(\"🌱 Culturas não-outliers:\")\n",
    "print(df_sem_outliers[df_sem_outliers['label'].isin(culturas_validas)]['label'].value_counts())"
   ]
  },
  {
   "cell_type": "markdown",
   "id": "d989393a",
   "metadata": {},
   "source": [
    "🧭 Gráfico radar interativo (Plotly) para arroz, milho, café e perfil de solo ideal\n",
    "\n",
    "Este gráfico do tipo radar compara as médias das variáveis numéricas para os cultivos de arroz, milho e café, além de um perfil de solo ideal definido previamente. Cada cultura apresenta um perfil específico, com destaque para diferentes variáveis como precipitação, umidade, nitrogênio, fósforo, potássio, pH e temperatura. O perfil ideal serve como referência para identificar o quão próximo cada cultura está das condições consideradas ideais. Essa visualização facilita a análise multivariada e pode apoiar decisões agronômicas, como sugestões de cultivo para determinadas regiões, ajustes no solo ou estratégias de manejo baseadas em similaridade com o perfil ideal."
   ]
  },
  {
   "cell_type": "code",
   "execution_count": null,
   "id": "9463b48c",
   "metadata": {},
   "outputs": [],
   "source": [
    "#🧭 Gráfico radar interativo (Plotly) para arroz, milho, café e perfil ideal\n",
    "\n",
    "# Médias por cultura\n",
    "df_rice = df[df['label'] == 'rice'].drop(columns='label').mean()\n",
    "df_maize = df[df['label'] == 'maize'].drop(columns='label').mean()\n",
    "df_coffee = df[df['label'] == 'coffee'].drop(columns='label').mean()\n",
    "\n",
    "# Valores em lista\n",
    "val_rice = df_rice.values.tolist()\n",
    "val_maize = df_maize.values.tolist()\n",
    "val_coffee = df_coffee.values.tolist()\n",
    "val_ideal = perfil_ideal.values.tolist()\n",
    "\n",
    "# Fechar ciclo do radar (primeiro ponto se repete no final)\n",
    "variaveis = perfil_ideal.index.tolist()\n",
    "variaveis += [variaveis[0]]\n",
    "val_rice += [val_rice[0]]\n",
    "val_maize += [val_maize[0]]\n",
    "val_coffee += [val_coffee[0]]\n",
    "val_ideal += [val_ideal[0]]\n",
    "\n",
    "# Criar figura Plotly\n",
    "fig = go.Figure()\n",
    "\n",
    "# Arroz\n",
    "fig.add_trace(go.Scatterpolar(\n",
    "    r=val_rice,\n",
    "    theta=variaveis,\n",
    "    fill='toself',\n",
    "    name='Arroz',\n",
    "    marker=dict(color='green'),\n",
    "    hoverinfo='text',\n",
    "    text=[f'{v:.1f}' for v in val_rice]\n",
    "))\n",
    "\n",
    "# Milho\n",
    "fig.add_trace(go.Scatterpolar(\n",
    "    r=val_maize,\n",
    "    theta=variaveis,\n",
    "    fill='toself',\n",
    "    name='Milho',\n",
    "    marker=dict(color='orange'),\n",
    "    hoverinfo='text',\n",
    "    text=[f'{v:.1f}' for v in val_maize]\n",
    "))\n",
    "\n",
    "# Café\n",
    "fig.add_trace(go.Scatterpolar(\n",
    "    r=val_coffee,\n",
    "    theta=variaveis,\n",
    "    fill='toself',\n",
    "    name='Café',\n",
    "    marker=dict(color='brown'),\n",
    "    hoverinfo='text',\n",
    "    text=[f'{v:.1f}' for v in val_coffee]\n",
    "))\n",
    "\n",
    "# Perfil Ideal\n",
    "fig.add_trace(go.Scatterpolar(\n",
    "    r=val_ideal,\n",
    "    theta=variaveis,\n",
    "    fill='toself',\n",
    "    name='Perfil Ideal',\n",
    "    marker=dict(color='cyan'),\n",
    "    hoverinfo='text',\n",
    "    text=[f'{v:.1f}' for v in val_ideal]\n",
    "))\n",
    "\n",
    "# Layout\n",
    "fig.update_layout(\n",
    "    polar=dict(\n",
    "        radialaxis=dict(visible=True)\n",
    "    ),\n",
    "    title=\"Perfil Radar Interativo - Arroz, Milho, Café e Perfil Ideal\",\n",
    "    showlegend=True,\n",
    "    height=700,\n",
    "    width=700\n",
    ")\n",
    "\n",
    "# Exibir\n",
    "fig.show()"
   ]
  },
  {
   "cell_type": "markdown",
   "id": "ba59d376",
   "metadata": {},
   "source": [
    "📊 Relatório – Comparativo: Arroz, Milho e Café vs Perfil Ideal\n",
    "\n",
    "Este relatório analisa o desempenho médio das culturas de arroz, milho e café em relação a um perfil ideal de solo e clima. O objetivo é identificar quais culturas se aproximam mais das condições ideais e quais ajustes seriam necessários para otimizar o cultivo.\n",
    "\n",
    "🌾 Arroz\n",
    "\n",
    "Precipitação (Rainfall): O arroz apresenta o maior valor entre todas as culturas, acima do perfil ideal, o que é condizente com sua necessidade de ambientes úmidos.\n",
    "Umidade (Humidity): Valor elevado e muito próximo do ideal, favorecendo o cultivo.\n",
    "Nutrientes (N, P, K): Os níveis de nitrogênio (N), fósforo (P) e potássio (K) estão bem abaixo do ideal, indicando necessidade de correção do solo.\n",
    "Temperatura e pH: Apresentam valores razoáveis, mas ainda inferiores ao ideal.\n",
    "\n",
    "🔎 Resumo: O arroz se destaca em clima úmido e chuvoso, mas exige complementação de nutrientes no solo.\n",
    "\n",
    "🌽 Milho\n",
    "\n",
    "Nutrientes: Fósforo (P): O milho é a cultura mais próxima do ideal nesse nutriente, Nitrogênio (N) e Potássio (K): Apresentam níveis razoáveis, acima do arroz.\n",
    "Precipitação e Umidade: Abaixo do ideal, podendo exigir irrigação dependendo da região.\n",
    "Temperatura e pH: Valores medianos, moderadamente compatíveis com o perfil ideal.\n",
    "\n",
    "🔎 Resumo: O milho mostra bom desempenho em nutrientes, mas pode demandar ajustes climáticos, especialmente em locais mais secos.\n",
    "\n",
    "☕ Café\n",
    "\n",
    "Nitrogênio (N): O café apresenta o nível mais alto entre as culturas, bem próximo ao ideal.\n",
    "Temperatura: Melhor alinhada com o perfil ideal.\n",
    "Precipitação: Acima do ideal, o que pode exigir controle de irrigação ou drenagem adequada.\n",
    "Umidade, pH e outros nutrientes: Moderados, com necessidade de ajustes.\n",
    "\n",
    "🔎 Resumo: O café se destaca em temperatura e nitrogênio, mas deve ter atenção à pluviosidade excessiva.\n",
    "\n",
    "✅ Conclusões Finais\n",
    "\n",
    "Nenhuma das culturas atinge perfeitamente o perfil ideal, mas cada uma tem pontos fortes distintos:\n",
    "\n",
    "🌾 Arroz: Ideal para regiões chuvosas e úmidas.\n",
    "\n",
    "🌽 Milho: Boa resposta a nutrientes, mas sensível à falta de água.\n",
    "\n",
    "☕ Café: Clima mais próximo do ideal, porém exige atenção à irrigação."
   ]
  },
  {
   "cell_type": "markdown",
   "id": "8d182207",
   "metadata": {},
   "source": [
    "📄 Exibição do dataset arredondado\n",
    "\n",
    "Por fim, a base é exibida com valores arredondados para facilitar a leitura e a apresentação. Essa prática é útil para inspeção visual, identificação de padrões e construção de relatórios. Embora não afete o desempenho computacional dos modelos (que devem usar os dados originais), o arredondamento é uma boa prática para dashboards e validação visual de entradas."
   ]
  },
  {
   "cell_type": "code",
   "execution_count": null,
   "id": "7e67b2cd",
   "metadata": {},
   "outputs": [],
   "source": [
    "#📄 Exibição do dataset arredondado\n",
    "\n",
    "df2_format = df2.round(2)\n",
    "display(df2_format)"
   ]
  }
 ],
 "metadata": {
  "jupytext": {
   "cell_metadata_filter": "-all",
   "main_language": "python",
   "notebook_metadata_filter": "-all"
  }
 },
 "nbformat": 4,
 "nbformat_minor": 5
}
