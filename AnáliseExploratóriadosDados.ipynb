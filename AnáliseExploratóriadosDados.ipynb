{
 "cells": [
  {
   "cell_type": "markdown",
   "id": "a5104a3d",
   "metadata": {},
   "source": [
    "🔍 Análise Exploratória dos Dados"
   ]
  },
  {
   "cell_type": "markdown",
   "id": "2f924960",
   "metadata": {},
   "source": [
    "📚 Importação de Bibliotecas Essenciais\n",
    "\n",
    "Este trecho de código importa as principais bibliotecas utilizadas para manipulação, análise e visualização de dados, tanto em gráficos estáticos (matplotlib, seaborn) quanto interativos (plotly), além de ferramentas para cálculo numérico (numpy) e manipulação de tabelas (pandas)."
   ]
  },
  {
   "cell_type": "code",
   "execution_count": null,
   "id": "7ac5549a",
   "metadata": {},
   "outputs": [],
   "source": [
    "import pandas as pd\n",
    "import matplotlib.pyplot as plt\n",
    "import seaborn as sns\n",
    "import numpy as np\n",
    "import plotly.express as px\n",
    "import plotly.graph_objects as go"
   ]
  },
  {
   "cell_type": "markdown",
   "id": "e00559be",
   "metadata": {},
   "source": [
    "📂 Definição do caminho de acesso aos dados da lavoura\n",
    "\n",
    "Aqui, o caminho do arquivo .csv contendo os dados agrícolas é definido em uma variável. Essa prática torna o código mais organizado e permite reutilizar facilmente o caminho do arquivo ao longo do notebook, facilitando ajustes e reaproveitamento do script."
   ]
  },
  {
   "cell_type": "code",
   "execution_count": null,
   "id": "7ff747e7",
   "metadata": {},
   "outputs": [],
   "source": [
    "#📂 Definição do caminho de acesso aos dados da lavoura\n",
    "\n",
    "csv_path = \"Atividade_Cap_14_produtos_agricolas.csv\""
   ]
  },
  {
   "cell_type": "markdown",
   "id": "a835b6e8",
   "metadata": {},
   "source": [
    "📥 Carregamento do dataset para estrutura tabular do pandas\n",
    "\n",
    "Esta etapa carrega os dados do arquivo CSV para um DataFrame, a estrutura de dados mais comum do pandas. Isso permite o uso de diversas ferramentas para exploração, limpeza e análise estatística dos dados referentes a culturas agrícolas como milho e cana-de-açúcar."
   ]
  },
  {
   "cell_type": "code",
   "execution_count": null,
   "id": "5c6e0709",
   "metadata": {},
   "outputs": [],
   "source": [
    "#📥 Carregamento do dataset para estrutura tabular do pandas\n",
    "\n",
    "df = pd.read_csv(csv_path)\n",
    "df2 = df.copy()"
   ]
  },
  {
   "cell_type": "markdown",
   "id": "799c545a",
   "metadata": {},
   "source": [
    "📐 Verificação da dimensão do conjunto de dados (linhas × colunas)\n",
    "\n",
    "Com df.shape, obtemos a dimensão do DataFrame, ou seja, o número de amostras e de atributos. Isso ajuda a dimensionar a complexidade da base, identificar se há dados suficientes e planejar estratégias de modelagem com base no volume de dados."
   ]
  },
  {
   "cell_type": "code",
   "execution_count": null,
   "id": "e12e0d14",
   "metadata": {},
   "outputs": [],
   "source": [
    "#📐 Verificação da dimensão do conjunto de dados (linhas × colunas)\n",
    "\n",
    "df.shape # 2200 linhas, e 8 colunas"
   ]
  },
  {
   "cell_type": "markdown",
   "id": "c0eae4fc",
   "metadata": {},
   "source": [
    "🧾 Extração dos nomes das colunas para facilitar manipulação e seleção\n",
    "\n",
    "Listar df.columns permite confirmar os nomes das variáveis, especialmente útil para selecionar subconjuntos de dados, configurar o eixo de gráficos ou usar nomes programaticamente em modelagens e pipelines."
   ]
  },
  {
   "cell_type": "code",
   "execution_count": null,
   "id": "b328c63d",
   "metadata": {},
   "outputs": [],
   "source": [
    "#🧾 Extração dos nomes das colunas para facilitar manipulação e seleção\n",
    "\n",
    "df.columns "
   ]
  },
  {
   "cell_type": "markdown",
   "id": "9b538f0b",
   "metadata": {},
   "source": [
    "🧬 Checagem dos tipos de dados de cada variável\n",
    "\n",
    "Usando df.dtypes, identificamos se os dados estão corretamente interpretados pelo pandas. Por exemplo, colunas numéricas devem estar como float ou int, enquanto variáveis categóricas podem estar como object ou category. Essa etapa é fundamental para detectar conversões necessárias para análise estatística ou aprendizado de máquina."
   ]
  },
  {
   "cell_type": "code",
   "execution_count": null,
   "id": "d6e8edca",
   "metadata": {},
   "outputs": [],
   "source": [
    "#🧬 Checagem dos tipos de dados de cada variável\n",
    "\n",
    "df.dtypes # → Retorna os tipos de dados:\n",
    "            #int64 para nutrientes (N, P, K)\n",
    "            #float64 para variáveis contínuas (temperature, humidity, ph, rainfall)\n",
    "            #object para a label, pois é uma variável categórica (string)"
   ]
  },
  {
   "cell_type": "markdown",
   "id": "efdbb5cb",
   "metadata": {},
   "source": [
    "🚨 Detecção de dados faltantes para avaliar necessidade de imputação\n",
    "\n",
    "Esta célula analisa a presença de valores nulos usando df.isnull().sum(). A presença de dados ausentes pode comprometer a análise e os modelos, sendo necessário aplicar técnicas como imputação, remoção de linhas/colunas ou modelagem com tolerância a nulos."
   ]
  },
  {
   "cell_type": "code",
   "execution_count": null,
   "id": "abebe028",
   "metadata": {},
   "outputs": [],
   "source": [
    "df.isnull().sum() # nao existe nem um nulo"
   ]
  },
  {
   "cell_type": "markdown",
   "id": "19690388",
   "metadata": {},
   "source": [
    "📊 Estatísticas descritivas para análise quantitativa preliminar\n",
    "\n",
    "Com df.describe(), obtemos medidas estatísticas como média, mediana, desvio padrão e quartis para variáveis numéricas. Isso fornece uma noção do comportamento e da dispersão dos dados, ajudando a identificar outliers e padrões."
   ]
  },
  {
   "cell_type": "code",
   "execution_count": null,
   "id": "dffbc2e2",
   "metadata": {},
   "outputs": [],
   "source": [
    "#📊 Estatísticas descritivas para análise quantitativa preliminar\n",
    "\n",
    "df.describe()"
   ]
  },
  {
   "cell_type": "markdown",
   "id": "c6fe9ee8",
   "metadata": {},
   "source": [
    "🌾 Distribuição das culturas agrícolas (variável target)\n",
    "\n",
    "Com value_counts(), observamos a distribuição da variável label, que representa o tipo de cultivo. Esse passo permite entender o equilíbrio entre as classes e verificar se há desbalanceamento. Um desbalanceamento severo poderia impactar negativamente o desempenho dos modelos preditivos. Nesta base, as culturas estão relativamente equilibradas, favorecendo o uso de validação cruzada sem necessidade de técnicas de reamostragem."
   ]
  },
  {
   "cell_type": "code",
   "execution_count": null,
   "id": "4608c0fe",
   "metadata": {},
   "outputs": [],
   "source": [
    "#🌾 Distribuição das culturas agrícolas (variável target)\n",
    "\n",
    "df['label'].value_counts()"
   ]
  },
  {
   "cell_type": "markdown",
   "id": "d6094da4",
   "metadata": {},
   "source": [
    "📄 Exibição do dataset arredondado\n",
    "\n",
    "Por fim, a base é exibida com valores arredondados para facilitar a leitura e a apresentação. Essa prática é útil para inspeção visual, identificação de padrões e construção de relatórios. Embora não afete o desempenho computacional dos modelos (que devem usar os dados originais), o arredondamento é uma boa prática para dashboards e validação visual de entradas."
   ]
  },
  {
   "cell_type": "code",
   "execution_count": null,
   "id": "677e2353",
   "metadata": {},
   "outputs": [],
   "source": [
    "#📄 Exibição do dataset arredondado\n",
    "\n",
    "df2_format = df2.round(2)\n",
    "display(df2_format)"
   ]
  }
 ],
 "metadata": {
  "jupytext": {
   "cell_metadata_filter": "-all",
   "main_language": "python",
   "notebook_metadata_filter": "-all"
  }
 },
 "nbformat": 4,
 "nbformat_minor": 5
}
