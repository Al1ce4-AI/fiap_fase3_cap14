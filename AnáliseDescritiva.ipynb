{
 "cells": [
  {
   "cell_type": "code",
   "execution_count": null,
   "id": "2be99301",
   "metadata": {},
   "outputs": [],
   "source": []
  },
  {
   "cell_type": "markdown",
   "id": "e762b126",
   "metadata": {},
   "source": [
    "📊 Boxplot interativo das variáveis por tipo de cultivo\n",
    "\n",
    "Foi criado um boxplot interativo com Plotly para visualizar a distribuição das variáveis numéricas em cada cultura agrícola. Através da função melt(), a base foi transformada para o formato longo, permitindo o agrupamento por cultivo (label) e por variável. Esse gráfico revela diferenças significativas nas medianas e amplitudes interquartis, além da presença de potenciais outliers. Por exemplo, culturas como mamão (papaya) e arroz (rice) apresentam distribuições distintas de precipitação (rainfall), enquanto as culturas maçã (apple) e uva (grape) possuem índices de potássio (K) consideravelmente maiores do que as demais. Essas diferenças podem ser úteis para a criação de modelos de classificação baseados em características específicas do solo e do ambiente."
   ]
  },
  {
   "cell_type": "code",
   "execution_count": null,
   "id": "1173b557",
   "metadata": {},
   "outputs": [],
   "source": [
    "#📊 Boxplot interativo das variáveis por tipo de cultivo\n",
    "\n",
    "df_long = df.melt(id_vars='label', \n",
    "                  value_vars=['N', 'P', 'K', 'temperature', 'humidity', 'ph', 'rainfall'],\n",
    "                  var_name='variavel', \n",
    "                  value_name='valor')\n",
    "\n",
    "\n",
    "fig = px.box(df_long, x='label', y='valor', color='variavel', points='all', title='Boxplot Interativo das Variáveis por tipo de Cultivo')\n",
    "fig.update_layout(\n",
    "    xaxis_title=\"Tipo de Cultivo\",\n",
    "    yaxis_title=\"Valor\",\n",
    "    boxmode='group',  \n",
    "    xaxis_tickangle=-45,\n",
    "    legend_title=\"Variável\",\n",
    "    height=600,\n",
    "    width=1200\n",
    ")"
   ]
  },
  {
   "cell_type": "markdown",
   "id": "ce3c56cc",
   "metadata": {},
   "source": [
    "🔬 Dispersão entre pH e precipitação\n",
    "\n",
    "O gráfico de dispersão entre pH e precipitação (rainfall) permite avaliar a existência de correlações visuais ou agrupamentos naturais entre essas variáveis. Embora não seja possível inferir relações causais, pode-se identificar tendências ou padrões específicos. O gráfico sugere alguma dispersão menor em faixas médias de pH, mas sem uma correlação linear clara. Esta análise reforça a importância de múltiplas variáveis em conjunto para prever o tipo de cultura."
   ]
  },
  {
   "cell_type": "code",
   "execution_count": null,
   "id": "b33a2b14",
   "metadata": {},
   "outputs": [],
   "source": [
    "#🔬 Dispersão entre pH e precipitação\n",
    "\n",
    "plt.Figure(figsize=(18,10))\n",
    "sns.scatterplot(data=df2, x='ph', y='rainfall')\n",
    "\n",
    "plt.show()"
   ]
  },
  {
   "cell_type": "markdown",
   "id": "a73be7ec",
   "metadata": {},
   "source": [
    "🧪 Média de nutrientes por cultura (gráfico de barras agrupadas)\n",
    "\n",
    "Utiliza-se o método groupby para calcular as médias de potássio (K), nitrogênio (N) e fósforo (P) por tipo de cultivo, plotando um gráfico de barras agrupadas com Seaborn. Nota-se que diferentes culturas demandam diferentes composições químicas do solo: por exemplo, maçãs (apples) e uvas (grapes) tendem a exigir maior quantidade de K e P em relação ao coco (coconut) e laranjas (oranges). Essas informações são valiosas para práticas agrícolas direcionadas, bem como para alimentar modelos supervisionados com lógica explicável."
   ]
  },
  {
   "cell_type": "code",
   "execution_count": null,
   "id": "d86adee9",
   "metadata": {},
   "outputs": [],
   "source": [
    "#🧪 Média de nutrientes por cultura (gráfico de barras agrupadas)\n",
    "\n",
    "df_media = df.groupby('label')[['K', 'N', 'P']].mean().reset_index()\n",
    "\n",
    "# Transformar para formato longo\n",
    "df_meltado = df_media.melt(id_vars='label', value_vars=['K', 'N', 'P'],\n",
    "                           var_name='Nutriente', value_name='Valor')\n",
    "\n",
    "# Gráfico de barras agrupadas\n",
    "plt.figure(figsize=(16, 6))\n",
    "sns.barplot(data=df_meltado, x='label', y='Valor', hue='Nutriente', palette='Set2')\n",
    "\n",
    "plt.title('Média de K, N e P por Cultivo')\n",
    "plt.xlabel('Cultivo')\n",
    "plt.ylabel('Valor Médio')\n",
    "plt.legend(title='Nutriente')\n",
    "plt.xticks(rotation=45)\n",
    "plt.tight_layout()\n",
    "plt.show()"
   ]
  },
  {
   "cell_type": "markdown",
   "id": "ed334e69",
   "metadata": {},
   "source": [
    "🔥 Matriz de correlação entre variáveis numéricas\n",
    "\n",
    "Através do heatmap com annot=True, visualiza-se a correlação entre variáveis contínuas. Isso ajuda a identificar multicolinearidade, que pode prejudicar certos algoritmos (como Regressão Linear). A matriz de correlação representada pelo heatmap abaixo revela como as variáveis numéricas do solo e ambientais se relacionam entre si. O mapa utiliza a escala de cores para indicar o grau de correlação: tons avermelhados para correlações positivas e azulados para negativas.\n",
    "\n",
    "Dentre os destaques:\n",
    "\n",
    "- Forte correlação positiva entre P (fósforo) e K (potássio): valor de 0,74, indicando que essas variáveis tendem a aumentar juntas. Isso pode sinalizar um padrão comum de aplicação ou presença no solo.\n",
    "- Correlação negativa entre N (nitrogênio) e P (-0,23): sugere que em solos com mais nitrogênio, pode haver menos fósforo, ou vice-versa.\n",
    "- A maioria das variáveis climáticas como temperatura, umidade e rainfall (chuva) mostram baixa correlação com os nutrientes, sugerindo que atuam de forma mais independente nos dados, as correlações mais próximas de zero (como entre pH e outras variáveis) indicam pouca ou nenhuma associação linear, o que pode ser útil para enriquecer modelos preditivos sem risco de multicolinearidade.\n",
    "\n",
    "Essa análise é essencial para entender quais variáveis carregam informações semelhantes e quais trazem diversidade ao conjunto de dados."
   ]
  },
  {
   "cell_type": "code",
   "execution_count": null,
   "id": "1c92b0cb",
   "metadata": {},
   "outputs": [],
   "source": [
    "#🔥 Matriz de correlação entre variáveis numéricas\n",
    "\n",
    "df2_num = df2.drop('label', axis=1)\n",
    "\n",
    "sns.heatmap(df2_num.corr(), annot=True, cmap='coolwarm')\n",
    "plt.xticks(rotation=45)\n",
    "plt.show()"
   ]
  },
  {
   "cell_type": "markdown",
   "id": "6000a15c",
   "metadata": {},
   "source": [
    "🔎 Pairplot com coloração por tipo de cultivo\n",
    "\n",
    "O pairplot permite examinar relações bivariadas entre variáveis numéricas, com coloração baseada na variável label. Essa técnica é útil para detectar separabilidade visual entre classes. Observa-se que algumas combinações como K vs P ou K vs N exibem distribuições distintas por cultura, o que é promissor para tarefas de classificação. No entanto, outras variáveis mostram sobreposição, indicando que técnicas como PCA ou modelos não-lineares podem ser benéficos."
   ]
  },
  {
   "cell_type": "code",
   "execution_count": null,
   "id": "37af2c73",
   "metadata": {
    "lines_to_next_cell": 2
   },
   "outputs": [],
   "source": [
    "#🔎 Pairplot com coloração por tipo de cultivo\n",
    "\n",
    "sns.pairplot(df, hue='label', vars=['N', 'P', 'K', 'temperature', 'humidity', 'rainfall'])\n",
    "plt.title('Pairplot de Nutrientes do Solo e Fatores Ambientais por Tipo de Cultivo')\n",
    "plt.show()\n",
    "\n"
   ]
  }
 ],
 "metadata": {
  "jupytext": {
   "cell_metadata_filter": "-all",
   "main_language": "python",
   "notebook_metadata_filter": "-all"
  }
 },
 "nbformat": 4,
 "nbformat_minor": 5
}
