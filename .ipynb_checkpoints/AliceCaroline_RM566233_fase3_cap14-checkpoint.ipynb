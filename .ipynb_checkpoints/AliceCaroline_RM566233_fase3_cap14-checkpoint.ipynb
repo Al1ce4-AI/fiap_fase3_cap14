{
 "cells": [
  {
   "cell_type": "code",
   "execution_count": null,
   "id": "060b55f6",
   "metadata": {},
   "outputs": [],
   "source": [
    "AliceCaroline_RM566233_fase3_cap14"
   ]
  }
 ],
 "metadata": {
  "language_info": {
   "name": "python"
  }
 },
 "nbformat": 4,
 "nbformat_minor": 5
}
