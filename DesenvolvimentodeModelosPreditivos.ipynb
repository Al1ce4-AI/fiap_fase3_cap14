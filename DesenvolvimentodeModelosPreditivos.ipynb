{
 "cells": [
  {
   "cell_type": "markdown",
   "id": "1f732053",
   "metadata": {},
   "source": [
    "🤖 Desenvolvimento de Modelos Preditivos"
   ]
  },
  {
   "cell_type": "markdown",
   "id": "35c61990",
   "metadata": {},
   "source": [
    "🔍 Importação de bibliotecas especializadas para análise de dados agrícolas\n",
    "\n",
    "Nesta célula, são importadas bibliotecas essenciais para análise de dados e pré-processamento e modelagem (sklearn). Essas ferramentas fornecem funcionalidades fundamentais para manipulação de datasets, transformação de variáveis e construção de modelos preditivos eficientes."
   ]
  },
  {
   "cell_type": "code",
   "execution_count": null,
   "id": "0e4a376c",
   "metadata": {},
   "outputs": [],
   "source": [
    "# 🔍 Importação de bibliotecas especializadas para análise de dados agrícolas\n",
    "\n",
    "# ------------------------------\n",
    "# 📊 Manipulação e Visualização\n",
    "# ------------------------------\n",
    "import pandas as pd\n",
    "import numpy as np\n",
    "import matplotlib.pyplot as plt\n",
    "import seaborn as sns\n",
    "import joblib\n",
    "\n",
    "# ------------------------------\n",
    "# 🔄 Pré-processamento\n",
    "# ------------------------------\n",
    "from sklearn.preprocessing import StandardScaler, LabelEncoder, OneHotEncoder, MinMaxScaler\n",
    "from sklearn.model_selection import train_test_split, StratifiedKFold\n",
    "\n",
    "# ------------------------------\n",
    "# 🤖 Modelagem (Classificadores)\n",
    "# ------------------------------\n",
    "from sklearn.linear_model import LogisticRegression\n",
    "from sklearn.tree import DecisionTreeClassifier\n",
    "from sklearn.ensemble import (\n",
    "    RandomForestClassifier,\n",
    "    GradientBoostingClassifier,\n",
    "    AdaBoostClassifier,\n",
    "    BaggingClassifier,\n",
    "    ExtraTreesClassifier\n",
    ")\n",
    "from sklearn.svm import SVC\n",
    "from sklearn.neighbors import KNeighborsClassifier\n",
    "from sklearn.naive_bayes import GaussianNB\n",
    "from sklearn.neural_network import MLPClassifier\n",
    "from sklearn.discriminant_analysis import LinearDiscriminantAnalysis, QuadraticDiscriminantAnalysis\n",
    "from sklearn.calibration import CalibratedClassifierCV\n",
    "\n",
    "# ------------------------------\n",
    "# 🧪 Avaliação de Desempenho\n",
    "# ------------------------------\n",
    "from sklearn.metrics import (\n",
    "    accuracy_score,\n",
    "    precision_score,\n",
    "    recall_score,\n",
    "    f1_score,\n",
    "    confusion_matrix,\n",
    "    classification_report,\n",
    "    roc_auc_score\n",
    ")\n",
    "\n",
    "# ------------------------------\n",
    "# ⚙️ Utilitários\n",
    "# ------------------------------\n",
    "import random\n",
    "import time\n",
    "import os"
   ]
  },
  {
   "cell_type": "markdown",
   "id": "7c9a8f42",
   "metadata": {},
   "source": [
    "📂 Definição do caminho de acesso aos dados da lavoura\n",
    "\n",
    "Aqui, o caminho do arquivo .csv contendo os dados agrícolas é definido em uma variável. Essa prática torna o código mais organizado e permite reutilizar facilmente o caminho do arquivo ao longo do notebook, facilitando ajustes e reaproveitamento do script."
   ]
  },
  {
   "cell_type": "code",
   "execution_count": null,
   "id": "adc0d420",
   "metadata": {},
   "outputs": [],
   "source": [
    "#📂 Definição do caminho de acesso aos dados da lavoura\n",
    "\n",
    "csv_path = \"Atividade_Cap_14_produtos_agricolas.csv\""
   ]
  },
  {
   "cell_type": "markdown",
   "id": "aae0f9ff",
   "metadata": {},
   "source": [
    "📥 Carregamento do dataset para estrutura tabular do pandas\n",
    "\n",
    "Esta etapa carrega os dados do arquivo CSV para um DataFrame, a estrutura de dados mais comum do pandas. Isso permite o uso de diversas ferramentas para exploração, limpeza e análise estatística dos dados referentes a culturas agrícolas como milho e cana-de-açúcar."
   ]
  },
  {
   "cell_type": "code",
   "execution_count": null,
   "id": "cac98697",
   "metadata": {},
   "outputs": [],
   "source": [
    "#📥 Carregamento do dataset para estrutura tabular do pandas\n",
    "\n",
    "df = pd.read_csv(csv_path)"
   ]
  },
  {
   "cell_type": "markdown",
   "id": "ac8e8aab",
   "metadata": {},
   "source": [
    "🔎 Inspeção inicial do dataset para compreensão de variáveis e formato\n",
    "\n",
    "Visualizar as primeiras linhas do DataFrame com df.head() serve como um ponto de partida para compreender a estrutura do dataset, verificar nomes de colunas, tipos de variáveis (como nitrogênio, pH, umidade etc.) e identificar possíveis anomalias logo no início. "
   ]
  },
  {
   "cell_type": "code",
   "execution_count": null,
   "id": "0176462f",
   "metadata": {},
   "outputs": [],
   "source": [
    "#🔎 Inspeção inicial do dataset para compreensão de variáveis e formato\n",
    "\n",
    "# 4.1) Exibir primeiras linhas do dataset\n",
    "df.head(20)"
   ]
  },
  {
   "cell_type": "markdown",
   "id": "3686cec5",
   "metadata": {},
   "source": [
    "🧾 Diagnóstico estrutural do DataFrame e tipagem dos dados com df.info()\n",
    "\n",
    "Utiliza-se o método df.info() para obter um resumo técnico da estrutura do dataset. Essa função retorna:\n",
    "\n",
    "- Número total de entradas (linhas);\n",
    "- Número e o nome das colunas;\n",
    "- Número de valores não nulos em cada coluna;\n",
    "- Tipo de dado de cada coluna (int64, float64, object, etc.);\n",
    "- Uso aproximado de memória.\n",
    "\n",
    "Essa análise é essencial para validar se:\n",
    "\n",
    "Todas as colunas foram corretamente interpretadas pelo pandas (ex: float ao invés de object), se existem colunas com valores ausentes (non-null < total) e se há necessidade de otimizar tipos de dados para uso eficiente de memória, principalmente em grandes volumes de dados. Essa inspeção ajuda a antecipar problemas e tomar decisões sobre pré-processamento antes da análise ou modelagem.\n",
    "\n",
    "🔍 Complementos úteis (comentados):\n",
    "Além do df.info(), o código menciona outras funções que aprofundam a compreensão sobre a estrutura do conjunto de dados.\n",
    "\n",
    "Essas informações ajudam a entender melhor como os dados estão organizados e se há problemas que precisam ser corrigidos, como colunas com dados ausentes ou tipos de dados incorretos. Por exemplo, é importante garantir que colunas com números estejam em tipos numéricos adequados (int ou float), e que colunas com nomes de culturas estejam como object (texto). Com esse diagnóstico inicial, podemos planejar os próximos passos da análise com mais segurança."
   ]
  },
  {
   "cell_type": "code",
   "execution_count": null,
   "id": "f9d14079",
   "metadata": {},
   "outputs": [],
   "source": [
    "#🧾 Diagnóstico estrutural do DataFrame e tipagem dos dados com df.info() e Complementos úteis (comentados):\n",
    "\n",
    "df.info()\n",
    "\n",
    "#df.shape → Retorna (2200, 8), indicando que o dataset possui 2200 amostras (linhas) e 8 atributos (colunas).\n",
    "\n",
    "#df.columns → Lista os nomes das colunas, revelando que os atributos medem nutrientes (N, P, K), variáveis ambientais (temperatura, umidade, pH, precipitação) e a variável alvo \n",
    "# label (tipo de cultura agrícola).\n",
    "\n",
    "#df.dtypes → Retorna os tipos de dados:\n",
    "#int64 para nutrientes (N, P, K)\n",
    "#float64 para variáveis contínuas (temperature, humidity, ph, rainfall)\n",
    "#object para a label, pois é uma variável categórica (string)"
   ]
  },
  {
   "cell_type": "markdown",
   "id": "e0e2f563",
   "metadata": {},
   "source": [
    "🚨 Detecção de dados faltantes para avaliação da necessidade de imputação\n",
    "\n",
    "Esta etapa verifica a presença de valores nulos no dataset utilizando df.isnull().sum(). Embora a função df.info() também identifique dados faltantes, sua visualização pode ser menos intuitiva. A existência de valores ausentes pode prejudicar tanto a análise exploratória quanto o desempenho dos modelos preditivos. Por isso, é fundamental decidir uma estratégia adequada, como imputação, exclusão de linhas ou colunas, ou o uso de modelos que suportem dados nulos."
   ]
  },
  {
   "cell_type": "code",
   "execution_count": null,
   "id": "3f0bb8f8",
   "metadata": {},
   "outputs": [],
   "source": [
    "#🚨 Detecção de dados faltantes para avaliar necessidade de imputação\n",
    "\n",
    "print(df.isnull().sum()) # nao existe nenhum nulo"
   ]
  },
  {
   "cell_type": "markdown",
   "id": "a849f069",
   "metadata": {},
   "source": [
    "🔁 Detecção de entradas redundantes no dataset\n",
    "\n",
    "Esta célula tem como objetivo identificar registros duplicados, ou seja, linhas que aparecem mais de uma vez com os mesmos valores em todas as colunas. Isso é feito por meio do método df.duplicated(), que retorna uma série booleana indicando True para as linhas duplicadas."
   ]
  },
  {
   "cell_type": "code",
   "execution_count": null,
   "id": "f8eb77da",
   "metadata": {},
   "outputs": [],
   "source": [
    "#🔁 Detecção de entradas redundantes no dataset\n",
    "duplicates= df.duplicated().sum()\n",
    "print(f\"Total de duplicados: {duplicates}\")"
   ]
  },
  {
   "cell_type": "markdown",
   "id": "ff394ff0",
   "metadata": {},
   "source": [
    "🧹 Limpeza de dados redundantes\n",
    "\n",
    "O método drop_duplicates() remove todas as entradas repetidas, mantendo apenas a primeira ocorrência. O argumento inplace=True faz com que a modificação seja feita diretamente no DataFrame original (df), sem a necessidade de reatribuição, remover duplicatas é uma etapa importante na preparação dos dados, pois ajuda a garantir a qualidade, consistência e confiabilidade das análises e dos modelos de aprendizado de máquina."
   ]
  },
  {
   "cell_type": "code",
   "execution_count": null,
   "id": "e2b7da97",
   "metadata": {},
   "outputs": [],
   "source": [
    "#🧹 Limpeza de dados redundantes (exemplo)\n",
    "#df.drop_duplicates(inplace=True)"
   ]
  },
  {
   "cell_type": "markdown",
   "id": "6f13317b",
   "metadata": {},
   "source": [
    "📊 Detecção e tratamento de valores extremos com IQR \n",
    "\n",
    "Esta célula tem o objetivo de identificar e tratar outliers (valores fora do padrão esperado) na coluna 'temperature', utilizando o método do Intervalo Interquartil (IQR), tratar outliers é essencial para evitar distorções em modelos de regressão, classificadores e estatísticas descritivas, especialmente em modelos sensíveis a valores extremos, como KNN e regressão linear."
   ]
  },
  {
   "cell_type": "code",
   "execution_count": null,
   "id": "103b9af9",
   "metadata": {},
   "outputs": [],
   "source": [
    "#📊 Detecção e tratamento de valores extremos com IQR (exemplo)\n",
    "\n",
    "## Identificando os outliers usando o método do Intervalo Interquartil (IQR)\n",
    "#Q1 = df['temperature'].quantile(0.25)  # Primeiro quartil\n",
    "#Q3 = df['temperature'].quantile(0.75)  # Terceiro quartil\n",
    "#IQR = Q3 - Q1  # Intervalo interquartil\n",
    "\n",
    "## Definir limites para outliers\n",
    "#outlier_lower = Q1 - 1.5 * IQR  # Limite inferior\n",
    "#outlier_upper = Q3 + 1.5 * IQR  # Limite superior\n",
    "\n",
    "## Calcular a mediana da temperatura\n",
    "#median_temperature = df['temperature'].median()\n",
    "\n",
    "## Substituir os outliers pela mediana\n",
    "#df['temperature'] = df['temperature'].apply(lambda x: median_temperature if x < outlier_lower or x > outlier_upper else x)"
   ]
  },
  {
   "cell_type": "markdown",
   "id": "dd25ec5c",
   "metadata": {},
   "source": [
    "📊 Estatísticas descritivas para análise quantitativa preliminar\n",
    "\n",
    "Com df.describe(), obtemos medidas estatísticas como média, mediana, desvio padrão e quartis para variáveis numéricas. Isso fornece uma noção do comportamento e da dispersão dos dados, ajudando a identificar outliers e padrões."
   ]
  },
  {
   "cell_type": "code",
   "execution_count": null,
   "id": "a117daa3",
   "metadata": {},
   "outputs": [],
   "source": [
    "#📊 Estatísticas descritivas para análise quantitativa preliminar\n",
    "\n",
    "df.describe()"
   ]
  },
  {
   "cell_type": "markdown",
   "id": "85fa07d1",
   "metadata": {},
   "source": [
    "🎯 Quantificação das classes da variável alvo\n",
    "\n",
    "A função df['label'].value_counts() permite entender quantas amostras existem para cada cultura agrícola no dataset. Isso ajuda a verificar se as classes estão balanceadas ou se há desbalanceamento, o que afeta diretamente o desempenho de modelos classificadores."
   ]
  },
  {
   "cell_type": "code",
   "execution_count": null,
   "id": "300b14bf",
   "metadata": {},
   "outputs": [],
   "source": [
    "#🎯 Quantificação das classes da variável alvo\n",
    "\n",
    "df['label'].value_counts()"
   ]
  },
  {
   "cell_type": "markdown",
   "id": "c0948779",
   "metadata": {},
   "source": [
    "🎯 Separando os dados em variáveis preditoras e variável target \n",
    "\n",
    "Nesta etapa, fazemos a divisão dos dados em:\n",
    "\n",
    "X: variáveis preditoras (features), que contêm as informações do solo e clima — como nitrogênio (N), fósforo (P), potássio (K), temperatura, umidade, pH e precipitação. Essas serão as entradas para os modelos.\n",
    "y: variável target (rótulo), que indica o tipo de cultura agrícola (label) que queremos prever.\n",
    "\n",
    "Essa separação é fundamental para o treinamento dos modelos de machine learning, pois permite que eles aprendam a relação entre as condições do ambiente (X) e o tipo de cultura ideal (y). Assim, podemos avaliar a capacidade preditiva dos algoritmos para recomendar o produto agrícola adequado às condições fornecidas."
   ]
  },
  {
   "cell_type": "code",
   "execution_count": null,
   "id": "f6a0ef8b",
   "metadata": {},
   "outputs": [],
   "source": [
    "#🎯 Separando os dados em variáveis preditoras e variável target \n",
    "\n",
    "X = df.drop(columns=['label'])\n",
    "y = df['label']"
   ]
  },
  {
   "cell_type": "markdown",
   "id": "0b420399",
   "metadata": {},
   "source": [
    "🎯 Conversão da variável alvo categórica para formato numérico\n",
    "\n",
    "Algoritmos de machine learning geralmente exigem que a variável alvo (label) esteja em formato numérico. Esta etapa utiliza o LabelEncoder, e em casos mais complexos o One-Hot Enconding (como exemplificado abaixo),  para transformar categorias textuais (como o tipo de cultura) em números, preservando a associação entre as classes e preparando os dados para o treinamento supervisionado."
   ]
  },
  {
   "cell_type": "code",
   "execution_count": null,
   "id": "fb54d203",
   "metadata": {},
   "outputs": [],
   "source": [
    "#🎯 Conversão da variável alvo categórica para formato numérico\n",
    "\n",
    "le = LabelEncoder()\n",
    "y_enc = le.fit_transform(y)\n",
    "\n",
    "#Lista de colunas categóricas e aplicação de One-Hot Encoding caso fosse necessário\n",
    "categorical_cols = []\n",
    "\n",
    "#Exemplo de aplicação de One-Hot Encoding\n",
    "if categorical_cols:\n",
    "    ohe = OneHotEncoder(handle_unknown='ignore')\n",
    "    X_encoded = pd.DataFrame(\n",
    "        ohe.fit_transform(X[categorical_cols]).toarray(),\n",
    "        index=X.index\n",
    "    )\n",
    "    X_encoded = X_encoded.add_prefix('OHE_')\n",
    "\n",
    "    #Remover colunas categóricas do DataFrame original (exemplo)\n",
    "    X = X.drop(categorical_cols, axis=1)\n",
    "\n",
    "    #Concatenar o DataFrame original com o DataFrame codificado (exemplo)\n",
    "    X  = pd.concat([X, X_encoded], axis=1)"
   ]
  },
  {
   "cell_type": "markdown",
   "id": "01c25cb2",
   "metadata": {},
   "source": [
    "✂️ Separação dos dados em conjuntos de treino e teste com estratificação\n",
    "\n",
    "Aqui os dados são divididos em conjuntos de treinamento e teste com base em uma proporção definida (80/20). O parâmetro stratify=y garante que a distribuição das classes da variável alvo seja preservada em ambas as amostras, o que é fundamental para garantir avaliações mais realistas e imparciais dos modelos."
   ]
  },
  {
   "cell_type": "code",
   "execution_count": null,
   "id": "a6aa69cb",
   "metadata": {},
   "outputs": [],
   "source": [
    "#✂️ Separação dos dados em conjuntos de treino e teste com estratificação\n",
    "\n",
    "X_train, X_test, y_train, y_test = train_test_split(\n",
    "    X, y_enc, test_size=0.2, random_state=42, stratify=y_enc\n",
    ")"
   ]
  },
  {
   "cell_type": "markdown",
   "id": "182350c8",
   "metadata": {},
   "source": [
    "📏 Escalonamento das variáveis numéricas para melhorar desempenho dos modelos\n",
    "\n",
    "A normalização dos dados, feita com MinMaxScaler, ajusta as variáveis para uma mesma escala (geralmente de 0 a 1). Isso é crucial para algoritmos que são sensíveis à magnitude dos dados, como KNN e SVM, garantindo que nenhuma variável domine a modelagem apenas por ter valores maiores."
   ]
  },
  {
   "cell_type": "code",
   "execution_count": null,
   "id": "1f93d0e4",
   "metadata": {},
   "outputs": [],
   "source": [
    "#📏 Escalonamento das variáveis numéricas para melhorar desempenho dos modelos\n",
    "\n",
    "scaler = MinMaxScaler()\n",
    "X_train = scaler.fit_transform(X_train)\n",
    "X_test = scaler.transform(X_test)"
   ]
  },
  {
   "cell_type": "markdown",
   "id": "dd13865a",
   "metadata": {},
   "source": [
    "🔄 Configurar validação cruzada estratificada com StratifiedKFold \n",
    "\n",
    "Aqui, utilizamos o StratifiedKFold para criar 5 divisões (folds) dos dados que preservam a proporção original das classes em cada parte. Configuramos o embaralhamento dos dados (shuffle=True) para garantir aleatoriedade na divisão e definimos uma semente fixa (random_state=42) para resultados reproduzíveis, essa configuração assegura que o modelo seja avaliado de forma equilibrada e consistente em diferentes subconjuntos do conjunto de dados."
   ]
  },
  {
   "cell_type": "code",
   "execution_count": null,
   "id": "240b737e",
   "metadata": {},
   "outputs": [],
   "source": [
    "#🔄 Configurar validação cruzada estratificada com StratifiedKFold \n",
    "\n",
    "cv = StratifiedKFold(n_splits=5, shuffle=True, random_state=42)"
   ]
  },
  {
   "cell_type": "markdown",
   "id": "0d46a195",
   "metadata": {},
   "source": [
    "⚙️ Instanciação de modelos de aprendizado supervisionado para classificação\n",
    "\n",
    "Nesta célula, criamos uma lista de 20 modelos de machine learning para classificação, com diferentes algoritmos e hiperparâmetros aleatórios. Os modelos incluem Regressão Logística, Árvore de Decisão, Random Forest, Gradient Boosting, SVM, KNN e Naive Bayes.\n",
    "\n",
    "Para garantir diversidade, cada modelo recebe um nome único baseado em seus hiperparâmetros, evitando duplicatas. Essa variedade permite testar diferentes configurações e comparar seu desempenho na tarefa de prever a cultura agrícola a partir de características do solo e clima."
   ]
  },
  {
   "cell_type": "code",
   "execution_count": null,
   "id": "69049ef8",
   "metadata": {},
   "outputs": [],
   "source": [
    "#⚙️ Instanciação de modelos de aprendizado supervisionado para classificação\n",
    "\n",
    "# Funções auxiliares para gerar variações aleatórias\n",
    "random_state = lambda: random.randint(1, 100)\n",
    "n_estimators = lambda: random.choice([50, 100, 150, 200])\n",
    "k_neighbors = lambda: random.choice([3, 5, 7, 10, 15])\n",
    "max_depth = lambda: random.choice([None, 3, 5, 10])\n",
    "kernels = ['linear', 'poly', 'rbf', 'sigmoid']\n",
    "hidden_layer_sizes = lambda: random.choice([(50,), (100,), (50, 50), (100, 50)])\n",
    "\n",
    "modelos = []\n",
    "nomes_gerados = set()\n",
    "\n",
    "while len(modelos) < 20:\n",
    "    modelo_tipo = random.choice([\n",
    "        'lr', 'dt', 'rf', 'gb', 'svm', 'knn', 'nb',\n",
    "        'et', 'ada', 'lda', 'qda', 'mlp', 'bag', 'cal'\n",
    "    ])\n",
    "    \n",
    "    if modelo_tipo == 'lr':\n",
    "        nome = f'LogReg {random_state()}'\n",
    "        if nome not in nomes_gerados:\n",
    "            modelo = LogisticRegression(max_iter=1000, random_state=random_state())\n",
    "            modelos.append((nome, modelo))\n",
    "            nomes_gerados.add(nome)\n",
    "    \n",
    "    elif modelo_tipo == 'dt':\n",
    "        depth = max_depth()\n",
    "        nome = f'DecTree d{depth}'\n",
    "        if nome not in nomes_gerados:\n",
    "            modelo = DecisionTreeClassifier(max_depth=depth, random_state=random_state())\n",
    "            modelos.append((nome, modelo))\n",
    "            nomes_gerados.add(nome)\n",
    "    \n",
    "    elif modelo_tipo == 'rf':\n",
    "        n = n_estimators()\n",
    "        nome = f'RandForest {n}'\n",
    "        if nome not in nomes_gerados:\n",
    "            modelo = RandomForestClassifier(n_estimators=n, random_state=random_state())\n",
    "            modelos.append((nome, modelo))\n",
    "            nomes_gerados.add(nome)\n",
    "    \n",
    "    elif modelo_tipo == 'gb':\n",
    "        n = n_estimators()\n",
    "        nome = f'GradBoost {n}'\n",
    "        if nome not in nomes_gerados:\n",
    "            modelo = GradientBoostingClassifier(n_estimators=n, random_state=random_state())\n",
    "            modelos.append((nome, modelo))\n",
    "            nomes_gerados.add(nome)\n",
    "\n",
    "    elif modelo_tipo == 'et':\n",
    "        n = n_estimators()\n",
    "        nome = f'ExtraTrees {n}'\n",
    "        if nome not in nomes_gerados:\n",
    "            modelo = ExtraTreesClassifier(n_estimators=n, random_state=random_state())\n",
    "            modelos.append((nome, modelo))\n",
    "            nomes_gerados.add(nome)\n",
    "\n",
    "    elif modelo_tipo == 'ada':\n",
    "        n = n_estimators()\n",
    "        nome = f'AdaBoost {n}'\n",
    "        if nome not in nomes_gerados:\n",
    "            modelo = AdaBoostClassifier(n_estimators=n, random_state=random_state())\n",
    "            modelos.append((nome, modelo))\n",
    "            nomes_gerados.add(nome)\n",
    "    \n",
    "    elif modelo_tipo == 'svm':\n",
    "        kernel = random.choice(kernels)\n",
    "        nome = f'SVM {kernel}'\n",
    "        if nome not in nomes_gerados:\n",
    "            modelo = SVC(kernel=kernel, probability=True, random_state=random_state())\n",
    "            modelos.append((nome, modelo))\n",
    "            nomes_gerados.add(nome)\n",
    "\n",
    "    elif modelo_tipo == 'knn':\n",
    "        k = k_neighbors()\n",
    "        nome = f'KNN {k}'\n",
    "        if nome not in nomes_gerados:\n",
    "            modelo = KNeighborsClassifier(n_neighbors=k)\n",
    "            modelos.append((nome, modelo))\n",
    "            nomes_gerados.add(nome)\n",
    "\n",
    "    elif modelo_tipo == 'nb':\n",
    "        nome = f'Naive Bayes {random_state()}'\n",
    "        if nome not in nomes_gerados:\n",
    "            modelo = GaussianNB()\n",
    "            modelos.append((nome, modelo))\n",
    "            nomes_gerados.add(nome)\n",
    "\n",
    "    elif modelo_tipo == 'lda':\n",
    "        nome = 'LDA'\n",
    "        if nome not in nomes_gerados:\n",
    "            modelo = LinearDiscriminantAnalysis()\n",
    "            modelos.append((nome, modelo))\n",
    "            nomes_gerados.add(nome)\n",
    "\n",
    "    elif modelo_tipo == 'qda':\n",
    "        nome = 'QDA'\n",
    "        if nome not in nomes_gerados:\n",
    "            modelo = QuadraticDiscriminantAnalysis()\n",
    "            modelos.append((nome, modelo))\n",
    "            nomes_gerados.add(nome)\n",
    "\n",
    "    elif modelo_tipo == 'mlp':\n",
    "        hls = hidden_layer_sizes()\n",
    "        nome = f'MLP {hls}'\n",
    "        if nome not in nomes_gerados:\n",
    "            modelo = MLPClassifier(hidden_layer_sizes=hls, max_iter=1000, random_state=random_state())\n",
    "            modelos.append((nome, modelo))\n",
    "            nomes_gerados.add(nome)\n",
    "\n",
    "    elif modelo_tipo == 'bag':\n",
    "        base_depth = max_depth()\n",
    "        nome = f'Bagging DT d{base_depth}'\n",
    "        if nome not in nomes_gerados:\n",
    "            base_est = DecisionTreeClassifier(max_depth=base_depth, random_state=random_state())\n",
    "            modelo = BaggingClassifier(estimator=base_est, n_estimators=n_estimators(), random_state=random_state())\n",
    "            modelos.append((nome, modelo))\n",
    "            nomes_gerados.add(nome)\n",
    "\n",
    "    elif modelo_tipo == 'cal':\n",
    "        # CalibratedClassifierCV precisa de base, usar SVM linear\n",
    "        nome = 'Calibrated SVM linear'\n",
    "        if nome not in nomes_gerados:\n",
    "            base_svm = SVC(kernel='linear', probability=False, random_state=random_state())\n",
    "            modelo = CalibratedClassifierCV(base_svm)\n",
    "            modelos.append((nome, modelo))\n",
    "            nomes_gerados.add(nome)"
   ]
  },
  {
   "cell_type": "markdown",
   "id": "0b56bece",
   "metadata": {},
   "source": [
    "📊 Treinamento dos modelos, validação cruzada e avaliação preditiva\n",
    "\n",
    "Nesta célula, executa-se o ciclo completo de aprendizado de máquina para cada modelo instanciado: \n",
    "\n",
    "- ⏱️ *Treinamento* com os dados de treino (`X_train`, `y_train`);\n",
    "- 🔁 *Predição* e avaliação no conjunto de teste (`X_test`, `y_test`);\n",
    "- 📈 *Coleta de métricas preditivas* como Acurácia, Precisão, Recall, F1-Score e ROC AUC;\n",
    "- ⏳ *Registro do tempo de treinamento* de cada modelo;\n",
    "- 📦 Armazenamento dos modelos treinados e de suas predições para uso posterior.\n",
    "\n",
    "Essa abordagem permite comparar o desempenho e a eficiência de múltiplos algoritmos sob as mesmas condições experimentais."
   ]
  },
  {
   "cell_type": "code",
   "execution_count": null,
   "id": "f526d981",
   "metadata": {},
   "outputs": [],
   "source": [
    "#📊 Treinamento dos modelos, validação cruzada e avaliação preditiva\n",
    "\n",
    "\n",
    "# Avaliação dos modelos\n",
    "resultados = []\n",
    "tempos = []\n",
    "parametros = []\n",
    "modelos_treinados = {}\n",
    "y_preds = {}\n",
    "resultados = []\n",
    "\n",
    "for nome, modelo in modelos:\n",
    "    print(f\"Treinando: {nome}\")\n",
    "    inicio = time.time()\n",
    "\n",
    "    modelo.fit(X_train, y_train)\n",
    "    y_pred = modelo.predict(X_test)\n",
    "\n",
    "    fim = time.time()\n",
    "    duracao = fim - inicio\n",
    "\n",
    "    try:\n",
    "        y_proba = modelo.predict_proba(X_test)\n",
    "        if len(set(y)) == 2:\n",
    "            auc = roc_auc_score(y_test, y_proba[:, 1])\n",
    "        else:\n",
    "            auc = roc_auc_score(y_test, y_proba, multi_class='ovr')\n",
    "    except:\n",
    "        auc = None\n",
    "\n",
    "    resultados.append({\n",
    "        'Modelo': nome,\n",
    "        'Accuracy': accuracy_score(y_test, y_pred),\n",
    "        'Precision': precision_score(y_test, y_pred, average='weighted', zero_division=0),\n",
    "        'Recall': recall_score(y_test, y_pred, average='weighted'),\n",
    "        'F1 Score': f1_score(y_test, y_pred, average='weighted'),\n",
    "        'ROC AUC': auc\n",
    "    })\n",
    "\n",
    "    modelos_treinados[nome] = modelo\n",
    "    y_preds[nome] = y_pred\n",
    "    tempos.append({'Modelo': nome, 'Tempo Treinamento (s)': round(duracao, 3)})"
   ]
  },
  {
   "cell_type": "markdown",
   "id": "55bdae66",
   "metadata": {},
   "source": [
    "📈 Organização e exibição dos resultados de desempenho dos modelos\n",
    "\n",
    "Esta célula organiza os resultados obtidos durante a avaliação dos modelos em um DataFrame, ordenando-os pela métrica F1 Score para destacar os modelos com melhor desempenho geral. Além disso, registra o tempo de treinamento de cada modelo em um segundo DataFrame."
   ]
  },
  {
   "cell_type": "code",
   "execution_count": null,
   "id": "d2f2f3f5",
   "metadata": {
    "lines_to_next_cell": 1
   },
   "outputs": [],
   "source": [
    "#📈 Organização e exibição dos resultados de desempenho dos modelos\n",
    "\n",
    "atual_resultados = pd.DataFrame(resultados).sort_values(by='F1 Score', ascending=False)\n",
    "df_resultados = atual_resultados\n",
    "df_tempos = pd.DataFrame(tempos)"
   ]
  },
  {
   "cell_type": "markdown",
   "id": "4a6ec463",
   "metadata": {},
   "source": [
    "#📋 Comparação visual entre modelos com base em métricas de classificação\n",
    "\n",
    "Esta célula define e executa a função `exibir_metricas`, responsável por gerar visualizações comparativas entre os modelos de machine learning avaliados. As visualizações incluem:\n",
    "\n",
    "- *Gráfico de barras do F1 Score*: mostra quais modelos obtiveram melhor desempenho equilibrado entre precisão e recall.\n",
    "- *Mapa de calor das métricas*: apresenta uma visão geral das principais métricas (Accuracy, Precision, Recall, F1 Score e ROC AUC) para todos os modelos.\n",
    "- *Gráfico de tempo de treinamento*: compara a eficiência temporal de cada modelo, indicando o tempo necessário para treinar cada um deles.\n",
    "\n",
    "Essas visualizações ajudam a identificar os modelos mais eficazes e eficientes para o conjunto de dados agrícola analisado."
   ]
  },
  {
   "cell_type": "code",
   "execution_count": null,
   "id": "d28cdb85",
   "metadata": {},
   "outputs": [],
   "source": [
    "#📋 Comparação visual entre modelos com base em métricas de classificação\n",
    "\n",
    "def exibir_metricas(df_resultados, df_tempos):\n",
    "    # Barplot - F1 Score\n",
    "    plt.figure(figsize=(12, max(6, len(df_resultados) * 0.4)))\n",
    "    sns.barplot(data=df_resultados, x='F1 Score', y='Modelo', hue='Modelo', palette='viridis', legend=False)\n",
    "    plt.title('F1 Score por Modelo (Todos)')\n",
    "    plt.tight_layout()\n",
    "    plt.show()\n",
    "\n",
    "    # Heatmap - Todas as métricas\n",
    "    plt.figure(figsize=(14, max(6, len(df_resultados) * 0.4)))\n",
    "    heatmap_data = df_resultados.drop(columns='Modelo').set_index(df_resultados['Modelo']).astype(float)\n",
    "    sns.heatmap(heatmap_data, annot=True, cmap='YlGnBu', fmt='.2f')\n",
    "    plt.title('📊 Heatmap Desempenho dos Modelos (Todos)')\n",
    "    plt.rcParams['font.family'] = 'Segoe UI Emoji'\n",
    "    plt.tight_layout()\n",
    "    plt.show()\n",
    "\n",
    "    # Tempo de treinamento\n",
    "    plt.figure(figsize=(12, max(6, len(df_tempos) * 0.4)))\n",
    "    sns.barplot(data=df_tempos, x='Tempo Treinamento (s)', y='Modelo', hue='Modelo', palette='magma', legend=False)\n",
    "    plt.title('⏱️ Tempo de Treinamento por Modelo (Todos)')\n",
    "    plt.rcParams['font.family'] = 'Segoe UI Emoji'\n",
    "    plt.tight_layout()\n",
    "    plt.show()\n",
    "\n",
    "exibir_metricas(df_resultados, df_tempos)"
   ]
  },
  {
   "cell_type": "markdown",
   "id": "91dc4a98",
   "metadata": {},
   "source": [
    "🏆 Verificação e atualização dos 5 melhores modelos\n",
    "\n",
    "Esta célula mantém um histórico dos 5 modelos com melhor desempenho com base na métrica F1 Score. Se já existir um arquivo melhores_modelos.csv, ele é carregado e combinado com os resultados atuais. A lista combinada é então ordenada, duplicatas são removidas e os 5 melhores modelos únicos são selecionados. Por fim, a nova lista é salva no mesmo arquivo CSV e os dados de tempo de treinamento são cruzados para esses modelos selecionados, preparando os resultados para visualização futura."
   ]
  },
  {
   "cell_type": "code",
   "execution_count": null,
   "id": "98028951",
   "metadata": {},
   "outputs": [],
   "source": [
    "# 🏆 Verificação e atualização dos 5 melhores modelos\n",
    "\n",
    "caminho_csv = 'melhores_modelos.csv'\n",
    "if os.path.exists(caminho_csv):\n",
    "    melhores_anteriores = pd.read_csv(caminho_csv)\n",
    "    combinados = pd.concat([melhores_anteriores, atual_resultados], ignore_index=True)\n",
    "    combinados = combinados.sort_values(by='F1 Score', ascending=False).drop_duplicates('Modelo').head(5)\n",
    "else:\n",
    "    combinados = atual_resultados.head(5)\n",
    "\n",
    "# Salvar top 5 atualizados\n",
    "combinados.to_csv(caminho_csv, index=False)\n",
    "\n",
    "# 3. Cria a pasta para salvar os modelos (se não existir)\n",
    "os.makedirs(\"modelos_salvos\", exist_ok=True)\n",
    "\n",
    "# 4. Salva somente os modelos que estão no top 5\n",
    "modelos_treinados = {}\n",
    "y_preds = {}\n",
    "tempos = []\n",
    "\n",
    "# Cria um set com os nomes dos top 5 para facilitar a verificação\n",
    "top5_modelos = set(combinados['Modelo'])\n",
    "\n",
    "for nome, modelo in modelos:\n",
    "    if nome in top5_modelos:\n",
    "        nome_arquivo = f\"modelos_salvos/{nome.replace(' ', '_')}.pkl\"\n",
    "        joblib.dump(modelo, nome_arquivo)\n",
    "        print(f\"Modelo salvo em: {nome_arquivo}\")\n",
    "\n",
    "        modelos_treinados[nome] = modelo\n",
    "        y_preds[nome] = y_pred  # Supondo que y_pred esteja atualizado para esse modelo\n",
    "        tempos.append({'Modelo': nome, 'Tempo Treinamento (s)': round(duracao, 3)})\n",
    "\n",
    "# Gerar top 5 resultados e tempos atualizados\n",
    "top5_resultados = combinados \n",
    "top5_tempos = df_tempos.merge(top5_resultados[['Modelo']], on='Modelo')\n",
    "top5_tempos['Modelo'] = pd.Categorical(top5_tempos['Modelo'], categories=top5_resultados['Modelo'], ordered=True)"
   ]
  },
  {
   "cell_type": "markdown",
   "id": "6b63bac3",
   "metadata": {},
   "source": [
    "📊 Visualização dos 5 melhores modelos\n",
    "\n",
    "Esta célula gera gráficos para comparar visualmente o desempenho dos 5 melhores modelos selecionados. São exibidos:\n",
    "\n",
    "- Um gráfico de barras do F1 Score para os top 5 modelos, facilitando a comparação direta de desempenho.\n",
    "- Um heatmap com todas as métricas de avaliação para esses modelos, mostrando detalhes de performance de forma clara.\n",
    "- Um gráfico de barras com o tempo de treinamento de cada modelo, para analisar o custo computacional associado a cada um."
   ]
  },
  {
   "cell_type": "code",
   "execution_count": null,
   "id": "fa8f7049",
   "metadata": {},
   "outputs": [],
   "source": [
    "#📊 Visualização dos 5 melhores modelos\n",
    "\n",
    "# F1 Score dos top 5 modelos\n",
    "plt.figure(figsize=(12, 6))\n",
    "sns.barplot(data=top5_resultados, x='F1 Score', y='Modelo', hue='Modelo', palette='viridis', legend=False)\n",
    "plt.title('F1 Score - Top 5 Modelos')\n",
    "plt.tight_layout()\n",
    "plt.show()\n",
    "\n",
    "# Heatmap dos top 5 modelos\n",
    "plt.figure(figsize=(12, 6))\n",
    "sns.heatmap(top5_resultados.drop(columns='Modelo').set_index(top5_resultados['Modelo']).astype(float),annot=True,cmap='YlGnBu',fmt='.2f')\n",
    "plt.title('📊 Heatmap - Top 5 Modelos')\n",
    "plt.tight_layout()\n",
    "plt.show()\n",
    "\n",
    "# Gráfico de tempo dos top 5 modelos\n",
    "plt.figure(figsize=(12, 6))\n",
    "sns.barplot(data=top5_tempos, x='Tempo Treinamento (s)', y='Modelo', hue='Modelo', palette='magma', legend=False)\n",
    "plt.title('⏱️ Tempo de Treinamento - Top 5 Modelos')\n",
    "plt.tight_layout()\n",
    "plt.show()"
   ]
  },
  {
   "cell_type": "markdown",
   "id": "dec6358f",
   "metadata": {},
   "source": [
    "📑 Apresentação detalhada de métricas preditivas para cada algoritmo\n",
    "\n",
    "Esta célula imprime, para cada modelo testado:\n",
    "\n",
    "- A acurácia média da validação cruzada, que fornece uma estimativa mais robusta do desempenho geral, suavizando variações entre divisões dos dados;\n",
    "- O relatório de classificação (classification_report), que mostra métricas específicas por classe (precisão, recall, f1-score), possibilitando uma avaliação mais granular da performance;\n",
    "- A matriz de confusão, que evidencia os acertos e erros de classificação por categoria, sendo crucial para entender onde os modelos estão confundindo as culturas agrícolas.\n",
    "\n",
    "Essa análise detalhada é essencial para identificar não apenas qual modelo tem melhor desempenho geral, mas também quais estão mais equilibrados entre as classes e quais podem estar cometendo erros sistemáticos."
   ]
  },
  {
   "cell_type": "code",
   "execution_count": null,
   "id": "d9a4ce78",
   "metadata": {},
   "outputs": [],
   "source": [
    "#📑 Apresentação detalhada de métricas preditivas para cada algoritmo\n",
    "\n",
    "for nome in top5_resultados['Modelo']:\n",
    "    print(f\"\\n🔍 Avaliando modelo: {nome}\")\n",
    "\n",
    "    # Tenta obter o modelo: da memória ou do disco\n",
    "    if nome in modelos_treinados:\n",
    "        modelo = modelos_treinados[nome]\n",
    "    else:\n",
    "        try:\n",
    "            caminho_modelo = f\"modelos_salvos/{nome}.pkl\"\n",
    "            modelo = joblib.load(caminho_modelo)\n",
    "            print(f\"📂 Modelo '{nome}' carregado do disco com sucesso.\")\n",
    "        except FileNotFoundError:\n",
    "            print(f\"❌ Modelo '{nome}' não foi treinado nesta execução e também não foi encontrado em disco.\")\n",
    "            continue  # neste caso, não tem como avaliar\n",
    "\n",
    "    # Tenta obter as previsões\n",
    "    if nome in y_preds:\n",
    "        y_pred = y_preds[nome]\n",
    "    else:\n",
    "        y_pred = modelo.predict(X_test)\n",
    "        y_preds[nome] = y_pred  # salva para reutilização, se necessário\n",
    "        \n",
    "        \n",
    "    # Avaliação\n",
    "    acc = accuracy_score(y_test, y_pred)\n",
    "    prec = precision_score(y_test, y_pred, average='weighted', zero_division=0)\n",
    "    rec = recall_score(y_test, y_pred, average='weighted')\n",
    "    f1 = f1_score(y_test, y_pred, average='weighted')\n",
    "\n",
    "    print(f\"✅ Acurácia: {acc:.4f}\")\n",
    "    print(f\"✅ Precisão: {prec:.4f}\")\n",
    "    print(f\"✅ Revocação: {rec:.4f}\")\n",
    "    print(f\"✅ F1-Score: {f1:.4f}\")\n",
    "\n",
    "    # Relatório de classificação\n",
    "    print(\"\\n📄 Relatório de Classificação:\")\n",
    "    print(classification_report(y_test, y_pred, target_names=le.classes_, zero_division=0))\n",
    "\n",
    "    # Matriz de confusão\n",
    "    cm = confusion_matrix(y_test, y_pred)\n",
    "    plt.figure(figsize=(6, 4))\n",
    "    sns.heatmap(cm, annot=True, fmt=\"d\", cmap=\"Blues\", xticklabels=le.classes_, yticklabels=le.classes_)\n",
    "    plt.title(f\"Matriz de Confusão - {nome}\")\n",
    "    plt.xlabel(\"Previsto\")\n",
    "    plt.ylabel(\"Real\")\n",
    "    plt.tight_layout()\n",
    "    plt.show()"
   ]
  },
  {
   "cell_type": "markdown",
   "id": "79fc38cc",
   "metadata": {},
   "source": [
    "📈 Visualização da distribuição das classes no conjunto de teste\n",
    "\n",
    "Por fim, esta célula gera um gráfico de barras mostrando a quantidade de amostras por classe no conjunto de teste. Essa análise ajuda a verificar o balanceamento das classes, fundamental para interpretar corretamente as métricas dos modelos e evitar viés em classificações desbalanceadas."
   ]
  },
  {
   "cell_type": "code",
   "execution_count": null,
   "id": "79eeba66",
   "metadata": {},
   "outputs": [],
   "source": [
    "#📈 Visualização da distribuição das classes no conjunto de teste\n",
    "\n",
    "pd.DataFrame(le.inverse_transform(y_test)) \\\n",
    "    .value_counts() \\\n",
    "    .reset_index(name='count') \\\n",
    "    .rename(columns={'index': 'label'}) \\\n",
    "    .sort_values(by='count', ascending=False)"
   ]
  }
 ],
 "metadata": {
  "jupytext": {
   "cell_metadata_filter": "-all",
   "main_language": "python",
   "notebook_metadata_filter": "-all"
  }
 },
 "nbformat": 4,
 "nbformat_minor": 5
}
